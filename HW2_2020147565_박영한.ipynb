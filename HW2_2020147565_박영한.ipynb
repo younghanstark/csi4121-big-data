{
  "nbformat": 4,
  "nbformat_minor": 0,
  "metadata": {
    "colab": {
      "provenance": []
    },
    "kernelspec": {
      "name": "python3",
      "display_name": "Python 3"
    },
    "language_info": {
      "name": "python"
    },
    "accelerator": "GPU",
    "gpuClass": "standard"
  },
  "cells": [
    {
      "cell_type": "code",
      "execution_count": null,
      "metadata": {
        "id": "k3ZjherK7FIt"
      },
      "outputs": [],
      "source": [
        "#seq2seq model\n",
        "from IPython.display import Image\n",
        "Image(url=\"https://tutorials.pytorch.kr/_images/seq2seq.png\", width=800, height=400)"
      ]
    },
    {
      "cell_type": "code",
      "source": [
        "!pip install transformers[sentencepiece] datasets evaluate rouge_score"
      ],
      "metadata": {
        "id": "DC4zZX8M4j5R"
      },
      "execution_count": null,
      "outputs": []
    },
    {
      "cell_type": "code",
      "source": [
        "import nltk\n",
        "nltk.download('punkt')\n",
        "import datasets # https://huggingface.co/docs/datasets/nlp_process\n",
        "import evaluate # https://huggingface.co/docs/evaluate/choosing_a_metric\n",
        "import numpy as np\n",
        "from transformers import AutoTokenizer, AutoModelForSeq2SeqLM, Seq2SeqTrainingArguments, Seq2SeqTrainer, DataCollatorForSeq2Seq"
      ],
      "metadata": {
        "id": "c7IFwzs9g8SK"
      },
      "execution_count": null,
      "outputs": []
    },
    {
      "cell_type": "markdown",
      "source": [
        "### data loading & preprocessing"
      ],
      "metadata": {
        "id": "GOCwlAn5EmZJ"
      }
    },
    {
      "cell_type": "code",
      "execution_count": null,
      "metadata": {
        "id": "uPb-Uz75eAFl"
      },
      "outputs": [],
      "source": [
        "qg_data = datasets.load_dataset(\"lmqg/qg_koquad\") #https://huggingface.co/datasets/lmqg/qg_koquad\n",
        "qg_data"
      ]
    },
    {
      "cell_type": "code",
      "source": [
        "qg_data['train'][0]"
      ],
      "metadata": {
        "id": "eCLJ1YJSjaiP"
      },
      "execution_count": null,
      "outputs": []
    },
    {
      "cell_type": "code",
      "source": [
        "Image(url=\"https://raw.githubusercontent.com/asahi417/lm-question-generation/master/assets/qg_diagram.png\", width=600, height=400)"
      ],
      "metadata": {
        "id": "KZwDdNgrTFqy"
      },
      "execution_count": null,
      "outputs": []
    },
    {
      "cell_type": "code",
      "source": [
        "tokenizer = AutoTokenizer.from_pretrained(\"KETI-AIR/ke-t5-small-ko\") #https://github.com/AIRC-KETI/ke-t5\n",
        "model = AutoModelForSeq2SeqLM.from_pretrained(\"KETI-AIR/ke-t5-small-ko\")"
      ],
      "metadata": {
        "id": "Gbc8XA6b5pKQ"
      },
      "execution_count": null,
      "outputs": []
    },
    {
      "cell_type": "code",
      "source": [
        "# https://ai.googleblog.com/2020/02/exploring-transfer-learning-with-t5.html\n",
        "Image(url=\"https://static.news.zumst.com/images/98/2020/02/25/40908d3b82274fe683755fcbba5fdea2.png\", width=800, height=300)"
      ],
      "metadata": {
        "id": "4QdbKSiJarLl"
      },
      "execution_count": null,
      "outputs": []
    },
    {
      "cell_type": "code",
      "source": [
        "# your code\n",
        "def prefix_add(texts, prefix=\"\"): # prefix --> trigger tokens\n",
        "    # texts: row of dataset\n",
        "    inputs = [prefix + doc for doc in texts[\"paragraph_question\"]]  # texts[\"paragraph_question\"]: batch of rows of dataset\n",
        "    model_inputs = tokenizer(inputs, max_length=256, truncation=True)\n",
        "    labels = tokenizer(texts[\"answer\"], max_length=64, truncation=True)\n",
        "    model_inputs[\"labels\"] = labels[\"input_ids\"]  # add key 'labels' to data row\n",
        "    return model_inputs  # returns batch of processed rows of dataset\n",
        "\n",
        "# Apply a function to all the elements in the table and update the table (row by row)\n",
        "tokenized_dataset = qg_data.map(prefix_add, batched=True,)\n",
        "tokenized_dataset"
      ],
      "metadata": {
        "id": "kjXuNF5Hjy4K"
      },
      "execution_count": null,
      "outputs": []
    },
    {
      "cell_type": "code",
      "source": [
        "# adjust size of dataset\n",
        "for key in tokenized_dataset.keys():  # iteration for train, validation, test\n",
        "    length = len(tokenized_dataset[key])\n",
        "    tokenized_dataset[key] = tokenized_dataset[key].select(range(int(length * 0.25)))"
      ],
      "metadata": {
        "id": "WvmFyM2AmV5U"
      },
      "execution_count": null,
      "outputs": []
    },
    {
      "cell_type": "code",
      "source": [
        "tokenized_dataset"
      ],
      "metadata": {
        "id": "wEHrVZiAm8-C"
      },
      "execution_count": null,
      "outputs": []
    },
    {
      "cell_type": "markdown",
      "source": [
        "### hyperparameter setups"
      ],
      "metadata": {
        "id": "i9rXZsWIE8Qc"
      }
    },
    {
      "cell_type": "code",
      "source": [
        "metric = evaluate.load(\"rouge\") # https://huggingface.co/spaces/evaluate-metric/rouge\n",
        "metric"
      ],
      "metadata": {
        "id": "2bdF1JNM7nJu"
      },
      "execution_count": null,
      "outputs": []
    },
    {
      "cell_type": "code",
      "source": [
        "def compute_metrics(eval_pred, tokenizer=tokenizer, metric=metric):\n",
        "    predictions, labels = eval_pred\n",
        "    decoded_preds = tokenizer.batch_decode(predictions, skip_special_tokens=True)\n",
        "    labels = np.where(labels != -100, labels, tokenizer.pad_token_id) # -100 --> missing token\n",
        "    decoded_labels = tokenizer.batch_decode(labels, skip_special_tokens=True)\n",
        "\n",
        "    decoded_preds = [\"\\n\".join(nltk.sent_tokenize(pred.strip())) for pred in decoded_preds]\n",
        "    decoded_labels = [\"\\n\".join(nltk.sent_tokenize(label.strip())) for label in decoded_labels]\n",
        "    \n",
        "    result = metric.compute(predictions=decoded_preds, references=decoded_labels, use_stemmer=True)\n",
        "    result = {key: value * 100 for key, value in result.items()}\n",
        "\n",
        "    return {k: round(v, 4) for k, v in result.items()}"
      ],
      "metadata": {
        "id": "aGIh8jpV7v0n"
      },
      "execution_count": null,
      "outputs": []
    },
    {
      "cell_type": "code",
      "source": [
        "# https://huggingface.co/docs/transformers/v4.24.0/en/main_classes/trainer#transformers.TrainingArguments\n",
        "training_args = Seq2SeqTrainingArguments(\n",
        "    learning_rate=2e-5,\n",
        "    per_device_train_batch_size=4,\n",
        "    per_device_eval_batch_size=32,\n",
        "    num_train_epochs=10,\n",
        "    weight_decay=0.01,\n",
        "    output_dir=\"KoT5_for_QG\",\n",
        "    logging_steps=3,\n",
        "    evaluation_strategy=\"epoch\", \n",
        "    save_strategy=\"epoch\",\n",
        "    load_best_model_at_end=True,\n",
        "    predict_with_generate=True\n",
        ")"
      ],
      "metadata": {
        "id": "mwSv1qHwB8FT"
      },
      "execution_count": null,
      "outputs": []
    },
    {
      "cell_type": "markdown",
      "source": [
        "### model training"
      ],
      "metadata": {
        "id": "5BneOrznFQJc"
      }
    },
    {
      "cell_type": "code",
      "source": [
        "# https://huggingface.co/docs/transformers/main_classes/trainer\n",
        "trainer = Seq2SeqTrainer(\n",
        "    model=model,\n",
        "    args=training_args,\n",
        "    train_dataset=tokenized_dataset[\"train\"],\n",
        "    eval_dataset=tokenized_dataset[\"validation\"],\n",
        "    tokenizer=tokenizer,\n",
        "    compute_metrics=compute_metrics,\n",
        "    data_collator=DataCollatorForSeq2Seq(tokenizer=tokenizer, model=model),\n",
        ")"
      ],
      "metadata": {
        "id": "ma2LpJhXCLIK"
      },
      "execution_count": null,
      "outputs": []
    },
    {
      "cell_type": "code",
      "source": [
        "from google.colab import drive\n",
        "drive.mount('/content/drive')"
      ],
      "metadata": {
        "id": "ZVHdxXN3T2pS"
      },
      "execution_count": null,
      "outputs": []
    },
    {
      "cell_type": "code",
      "source": [
        "!unzip '/content/drive/MyDrive/연세대학교 2학년 2학기 (2023-1)/CSI4121 Big Data/HW2/checkpoint-47740.zip'"
      ],
      "metadata": {
        "id": "_Uyu3BJyviZ2"
      },
      "execution_count": null,
      "outputs": []
    },
    {
      "cell_type": "code",
      "source": [
        "trainer.train()\n",
        "# trainer.train(resume_from_checkpoint=\"/content/KoT5_for_QG/checkpoint-47740\")"
      ],
      "metadata": {
        "id": "KGUl26keCTnT"
      },
      "execution_count": null,
      "outputs": []
    },
    {
      "cell_type": "code",
      "source": [
        "import locale\n",
        "locale.getpreferredencoding = lambda: \"UTF-8\""
      ],
      "metadata": {
        "id": "o7CS935ZqjwJ"
      },
      "execution_count": null,
      "outputs": []
    },
    {
      "cell_type": "code",
      "source": [
        "!zip -r /content/KoT5_for_QG/checkpoint-68200.zip /content/KoT5_for_QG/checkpoint-68200"
      ],
      "metadata": {
        "id": "9iRDX6U_plPJ"
      },
      "execution_count": null,
      "outputs": []
    },
    {
      "cell_type": "markdown",
      "source": [
        "### evaluation & prediction"
      ],
      "metadata": {
        "id": "rt004ACIYEl1"
      }
    },
    {
      "cell_type": "code",
      "source": [
        "import os\n",
        "trainer.evaluate(tokenized_dataset[\"test\"], \n",
        "        num_beams=5)"
      ],
      "metadata": {
        "id": "WoMcmMRTt4Up"
      },
      "execution_count": null,
      "outputs": []
    },
    {
      "cell_type": "code",
      "source": [
        "from google.colab import runtime\n",
        "runtime.unassign()"
      ],
      "metadata": {
        "id": "qdAycpSP3yX8"
      },
      "execution_count": null,
      "outputs": []
    },
    {
      "cell_type": "markdown",
      "source": [
        "여기까지만돌렸음~"
      ],
      "metadata": {
        "id": "HsAk6p3r31NF"
      }
    },
    {
      "cell_type": "code",
      "source": [
        "save_model_path = \"./KoT5_QG\" # save in the current working directory, you can change this of course\n",
        "if not os.path.exists(save_model_path):\n",
        "  os.mkdir(save_model_path)\n",
        "\n",
        "model.save_pretrained(save_model_path)"
      ],
      "metadata": {
        "id": "ZDFnlUg6QtI1"
      },
      "execution_count": null,
      "outputs": []
    },
    {
      "cell_type": "code",
      "source": [
        "from transformers import T5ForConditionalGeneration\n",
        "model = T5ForConditionalGeneration.from_pretrained(save_model_path)"
      ],
      "metadata": {
        "id": "0snlY4w5RpwO"
      },
      "execution_count": null,
      "outputs": []
    },
    {
      "cell_type": "code",
      "source": [
        "inputs = tokenizer(qg_data[\"test\"][0][\"paragraph_question\"], return_tensors=\"pt\", max_length=256, truncation=True)\n",
        "inputs = {k:v for k, v in inputs.items()}\n",
        "inputs"
      ],
      "metadata": {
        "id": "S0em0r7UOxOU"
      },
      "execution_count": null,
      "outputs": []
    },
    {
      "cell_type": "code",
      "source": [
        "outputs = model.generate(inputs[\"input_ids\"], num_beams=5)\n",
        "\n",
        "print(\"Ground paragraph_question:\", qg_data[\"test\"][0][\"paragraph_question\"])\n",
        "print(\"Ground truth-answer:\", qg_data[\"test\"][0][\"answer\"])\n",
        "print('-'*30)\n",
        "print(\"Generated docstring:\", tokenizer.decode(outputs[0], skip_special_tokens=True))"
      ],
      "metadata": {
        "id": "JCuUOqltOqZP"
      },
      "execution_count": null,
      "outputs": []
    },
    {
      "cell_type": "markdown",
      "source": [
        "📌 실습\n",
        "\n",
        "직접 sentence를 넣어 모델에 넣어주고, 모델이 질문을 어떻게 생성하는지 살펴보세요"
      ],
      "metadata": {
        "id": "i93_zcY5uXX_"
      }
    },
    {
      "cell_type": "code",
      "source": [
        "pq = \"question: 박영한이 처음으로 출연한 작품은?, context: 박영한은 대한민국의 방송인이다. 그는 2022년 tvN 백패커에서 처음으로 데뷔했다.\"\n",
        "print(\"Paragaph_question:\", pq)\n",
        "inputs = tokenizer(pq, return_tensors=\"pt\", max_length=256, truncation=True)\n",
        "inputs = {k:v for k, v in inputs.items()}\n",
        "\n",
        "outputs = model.generate(inputs[\"input_ids\"], num_beams=5)\n",
        "\n",
        "print('-'*30)\n",
        "print(\"Generated docstring:\", tokenizer.decode(outputs[0], skip_special_tokens=True))"
      ],
      "metadata": {
        "id": "1R1E6xcEuXIQ"
      },
      "execution_count": null,
      "outputs": []
    },
    {
      "cell_type": "markdown",
      "source": [
        "## Assignment\n",
        "\n",
        "- 오늘 실습에서는 passage가 주어졌을 때 question을 생성하는 task를 수행하였습니다.\n",
        "- 실습 내용을 바탕으로, passage와 question이 주어졌을 때 answer를 생성하도록 모델을 학습하세요.\n",
        "- ROUGE-1 score가 5.0이 넘도록 데이터 양 및 하이퍼파라미터를 조정하세요.\n",
        "- 보고서의 내용과 Rouge score를 기반으로 채점합니다.\n",
        "- 보고서(전체 A4 1장 내외):\n",
        "  1.   실험 과정 요약\n",
        "  2.   최적화 하이퍼파라미터 정리\n",
        "  3.   최종 성능 결과 보고\n",
        "\n",
        "\n",
        "\n"
      ],
      "metadata": {
        "id": "AW1GOfO-ummt"
      }
    },
    {
      "cell_type": "code",
      "source": [],
      "metadata": {
        "id": "jazgnpO977RZ"
      },
      "execution_count": null,
      "outputs": []
    }
  ]
}